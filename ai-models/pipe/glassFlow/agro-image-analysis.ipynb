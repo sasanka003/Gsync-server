{
 "cells": [
  {
   "cell_type": "code",
   "execution_count": 1,
   "metadata": {},
   "outputs": [],
   "source": [
    "import glassflow"
   ]
  },
  {
   "cell_type": "code",
   "execution_count": 2,
   "metadata": {},
   "outputs": [],
   "source": [
    "import os"
   ]
  },
  {
   "cell_type": "code",
   "execution_count": 3,
   "metadata": {},
   "outputs": [],
   "source": [
    "client = glassflow.GlassFlowClient(\n",
    "    personal_access_token=os.getenv(\"GLASSFLOW_TOKEN\")\n",
    ")"
   ]
  },
  {
   "cell_type": "code",
   "execution_count": 4,
   "metadata": {},
   "outputs": [
    {
     "name": "stdout",
     "output_type": "stream",
     "text": [
      "Space \"main\" with ID: bdecbdc6-af8a-4e22-a5da-3c7d921d7292\n"
     ]
    }
   ],
   "source": [
    "list_spaces = client.list_spaces()\n",
    "\n",
    "space_name = \"main\"\n",
    "for s in list_spaces.spaces:\n",
    "    if s[\"name\"] == space_name:\n",
    "        space = glassflow.Space(\n",
    "            personal_access_token=client.personal_access_token,\n",
    "            id=s[\"id\"], \n",
    "            name=s[\"name\"]\n",
    "        )\n",
    "        break\n",
    "else:\n",
    "    space = client.create_space(name=space_name)\n",
    "\n",
    "print(f\"Space \\\"{space.name}\\\" with ID: {space.id}\")"
   ]
  },
  {
   "cell_type": "code",
   "execution_count": 5,
   "metadata": {},
   "outputs": [
    {
     "name": "stdout",
     "output_type": "stream",
     "text": [
      "\u001b[0;32mimport\u001b[0m \u001b[0mos\u001b[0m \u001b[0;34m\u001b[0m\n",
      "\u001b[0;34m\u001b[0m\u001b[0;32mfrom\u001b[0m \u001b[0mphi\u001b[0m\u001b[0;34m.\u001b[0m\u001b[0magent\u001b[0m \u001b[0;32mimport\u001b[0m \u001b[0mAgent\u001b[0m\u001b[0;34m\u001b[0m\n",
      "\u001b[0;34m\u001b[0m\u001b[0;32mfrom\u001b[0m \u001b[0mpydantic\u001b[0m \u001b[0;32mimport\u001b[0m \u001b[0mBaseModel\u001b[0m\u001b[0;34m\u001b[0m\n",
      "\u001b[0;34m\u001b[0m\u001b[0;32mfrom\u001b[0m \u001b[0mpydantic\u001b[0m\u001b[0;34m.\u001b[0m\u001b[0mfields\u001b[0m \u001b[0;32mimport\u001b[0m \u001b[0mField\u001b[0m\u001b[0;34m\u001b[0m\n",
      "\u001b[0;34m\u001b[0m\u001b[0;32mfrom\u001b[0m \u001b[0mopenai\u001b[0m \u001b[0;32mimport\u001b[0m \u001b[0mOpenAI\u001b[0m\u001b[0;34m\u001b[0m\n",
      "\u001b[0;34m\u001b[0m\u001b[0;32mfrom\u001b[0m \u001b[0mphi\u001b[0m\u001b[0;34m.\u001b[0m\u001b[0mmodel\u001b[0m\u001b[0;34m.\u001b[0m\u001b[0mopenai\u001b[0m \u001b[0;32mimport\u001b[0m \u001b[0mOpenAIChat\u001b[0m\u001b[0;34m\u001b[0m\n",
      "\u001b[0;34m\u001b[0m\u001b[0;32mfrom\u001b[0m \u001b[0msupabase\u001b[0m \u001b[0;32mimport\u001b[0m \u001b[0mcreate_client\u001b[0m\u001b[0;34m,\u001b[0m \u001b[0mClient\u001b[0m\u001b[0;34m\u001b[0m\n",
      "\u001b[0;34m\u001b[0m\u001b[0;34m\u001b[0m\n",
      "\u001b[0;34m\u001b[0m\u001b[0;34m\u001b[0m\n",
      "\u001b[0;34m\u001b[0m\u001b[0;32mdef\u001b[0m \u001b[0mhandler\u001b[0m\u001b[0;34m(\u001b[0m\u001b[0mdata\u001b[0m\u001b[0;34m,\u001b[0m \u001b[0mlog\u001b[0m\u001b[0;34m)\u001b[0m\u001b[0;34m:\u001b[0m\u001b[0;34m\u001b[0m\n",
      "\u001b[0;34m\u001b[0m    \u001b[0msupabase\u001b[0m\u001b[0;34m:\u001b[0m \u001b[0mClient\u001b[0m \u001b[0;34m=\u001b[0m \u001b[0mcreate_client\u001b[0m\u001b[0;34m(\u001b[0m\u001b[0mos\u001b[0m\u001b[0;34m.\u001b[0m\u001b[0mgetenv\u001b[0m\u001b[0;34m(\u001b[0m\u001b[0;34m\"SUPABASE_URL\"\u001b[0m\u001b[0;34m)\u001b[0m\u001b[0;34m,\u001b[0m \u001b[0mos\u001b[0m\u001b[0;34m.\u001b[0m\u001b[0mgetenv\u001b[0m\u001b[0;34m(\u001b[0m\u001b[0;34m\"SUPABASE_KEY\"\u001b[0m\u001b[0;34m)\u001b[0m\u001b[0;34m)\u001b[0m\u001b[0;34m\u001b[0m\n",
      "\u001b[0;34m\u001b[0m    \u001b[0mresult\u001b[0m\u001b[0;34m,\u001b[0m \u001b[0mparsed\u001b[0m \u001b[0;34m=\u001b[0m \u001b[0mget_ai_results\u001b[0m\u001b[0;34m(\u001b[0m\u001b[0;34m\u001b[0m\n",
      "\u001b[0;34m\u001b[0m        \u001b[0mbase64_image\u001b[0m\u001b[0;34m=\u001b[0m\u001b[0mdata\u001b[0m\u001b[0;34m[\u001b[0m\u001b[0;34m\"base64_image\"\u001b[0m\u001b[0;34m]\u001b[0m\u001b[0;34m,\u001b[0m\u001b[0;34m\u001b[0m\n",
      "\u001b[0;34m\u001b[0m        \u001b[0mplant\u001b[0m\u001b[0;34m=\u001b[0m\u001b[0mdata\u001b[0m\u001b[0;34m[\u001b[0m\u001b[0;34m\"plant\"\u001b[0m\u001b[0;34m]\u001b[0m\u001b[0;34m,\u001b[0m\u001b[0;34m\u001b[0m\n",
      "\u001b[0;34m\u001b[0m        \u001b[0mlocation\u001b[0m\u001b[0;34m=\u001b[0m\u001b[0mdata\u001b[0m\u001b[0;34m[\u001b[0m\u001b[0;34m\"location\"\u001b[0m\u001b[0;34m]\u001b[0m\u001b[0;34m,\u001b[0m\u001b[0;34m\u001b[0m\n",
      "\u001b[0;34m\u001b[0m        \u001b[0mweather\u001b[0m\u001b[0;34m=\u001b[0m\u001b[0mdata\u001b[0m\u001b[0;34m[\u001b[0m\u001b[0;34m\"weather\"\u001b[0m\u001b[0;34m]\u001b[0m\u001b[0;34m,\u001b[0m\u001b[0;34m\u001b[0m\n",
      "\u001b[0;34m\u001b[0m        \u001b[0mtemperature\u001b[0m\u001b[0;34m=\u001b[0m\u001b[0mdata\u001b[0m\u001b[0;34m[\u001b[0m\u001b[0;34m\"temperature\"\u001b[0m\u001b[0;34m]\u001b[0m\u001b[0;34m\u001b[0m\n",
      "\u001b[0;34m\u001b[0m    \u001b[0;34m)\u001b[0m\u001b[0;34m\u001b[0m\n",
      "\u001b[0;34m\u001b[0m    \u001b[0;34m\u001b[0m\n",
      "\u001b[0;34m\u001b[0m\u001b[0;34m\u001b[0m\n",
      "\u001b[0;34m\u001b[0m    \u001b[0mdata\u001b[0m \u001b[0;34m=\u001b[0m \u001b[0;34m{\u001b[0m\u001b[0;34m\u001b[0m\n",
      "\u001b[0;34m\u001b[0m        \u001b[0;34m\"image_id\"\u001b[0m\u001b[0;34m:\u001b[0m \u001b[0mdata\u001b[0m\u001b[0;34m[\u001b[0m\u001b[0;34m\"image_id\"\u001b[0m\u001b[0;34m]\u001b[0m\u001b[0;34m,\u001b[0m\u001b[0;34m\u001b[0m\n",
      "\u001b[0;34m\u001b[0m        \u001b[0;34m\"sensor_id\"\u001b[0m\u001b[0;34m:\u001b[0m \u001b[0mdata\u001b[0m\u001b[0;34m[\u001b[0m\u001b[0;34m\"sensor_id\"\u001b[0m\u001b[0;34m]\u001b[0m\u001b[0;34m,\u001b[0m \u001b[0;34m\u001b[0m\n",
      "\u001b[0;34m\u001b[0m        \u001b[0;34m\"plantation_id\"\u001b[0m\u001b[0;34m:\u001b[0m \u001b[0mdata\u001b[0m\u001b[0;34m[\u001b[0m\u001b[0;34m\"plantation_id\"\u001b[0m\u001b[0;34m]\u001b[0m\u001b[0;34m,\u001b[0m  \u001b[0;34m\u001b[0m\n",
      "\u001b[0;34m\u001b[0m        \u001b[0;34m\"prediction_details\"\u001b[0m\u001b[0;34m:\u001b[0m \u001b[0mresult\u001b[0m\u001b[0;34m,\u001b[0m \u001b[0;34m\u001b[0m\n",
      "\u001b[0;34m\u001b[0m        \u001b[0;34m\"pest\"\u001b[0m\u001b[0;34m:\u001b[0m \u001b[0mparsed\u001b[0m\u001b[0;34m.\u001b[0m\u001b[0mpest\u001b[0m\u001b[0;34m,\u001b[0m\u001b[0;34m\u001b[0m\n",
      "\u001b[0;34m\u001b[0m        \u001b[0;34m\"weed\"\u001b[0m\u001b[0;34m:\u001b[0m \u001b[0mparsed\u001b[0m\u001b[0;34m.\u001b[0m\u001b[0mweed\u001b[0m\u001b[0;34m,\u001b[0m\u001b[0;34m\u001b[0m\n",
      "\u001b[0;34m\u001b[0m        \u001b[0;34m\"disease\"\u001b[0m\u001b[0;34m:\u001b[0m \u001b[0mparsed\u001b[0m\u001b[0;34m.\u001b[0m\u001b[0mdisease\u001b[0m\u001b[0;34m\u001b[0m\n",
      "\u001b[0;34m\u001b[0m    \u001b[0;34m}\u001b[0m\u001b[0;34m\u001b[0m\n",
      "\u001b[0;34m\u001b[0m\u001b[0;34m\u001b[0m\n",
      "\u001b[0;34m\u001b[0m    \u001b[0mresponse\u001b[0m \u001b[0;34m=\u001b[0m \u001b[0msupabase\u001b[0m\u001b[0;34m.\u001b[0m\u001b[0mtable\u001b[0m\u001b[0;34m(\u001b[0m\u001b[0;34m\"predictions\"\u001b[0m\u001b[0;34m)\u001b[0m\u001b[0;34m.\u001b[0m\u001b[0minsert\u001b[0m\u001b[0;34m(\u001b[0m\u001b[0mdata\u001b[0m\u001b[0;34m)\u001b[0m\u001b[0;34m.\u001b[0m\u001b[0mexecute\u001b[0m\u001b[0;34m(\u001b[0m\u001b[0;34m)\u001b[0m\u001b[0;34m\u001b[0m\n",
      "\u001b[0;34m\u001b[0m\u001b[0;34m\u001b[0m\n",
      "\u001b[0;34m\u001b[0m    \u001b[0;32mreturn\u001b[0m \u001b[0mresult\u001b[0m\u001b[0;34m\u001b[0m\n",
      "\u001b[0;34m\u001b[0m\u001b[0;34m\u001b[0m\n",
      "\u001b[0;34m\u001b[0m\u001b[0;34m\u001b[0m\n",
      "\u001b[0;34m\u001b[0m\u001b[0;32mdef\u001b[0m \u001b[0mget_ai_results\u001b[0m\u001b[0;34m(\u001b[0m\u001b[0mbase64_image\u001b[0m\u001b[0;34m,\u001b[0m \u001b[0mplant\u001b[0m\u001b[0;34m,\u001b[0m \u001b[0mlocation\u001b[0m\u001b[0;34m,\u001b[0m \u001b[0mweather\u001b[0m\u001b[0;34m,\u001b[0m \u001b[0mtemperature\u001b[0m\u001b[0;34m)\u001b[0m\u001b[0;34m:\u001b[0m\u001b[0;34m\u001b[0m\n",
      "\u001b[0;34m\u001b[0m    \u001b[0mos\u001b[0m\u001b[0;34m.\u001b[0m\u001b[0menviron\u001b[0m\u001b[0;34m[\u001b[0m\u001b[0;34m\"OPENAI_API_KEY\"\u001b[0m\u001b[0;34m]\u001b[0m \u001b[0;34m=\u001b[0m \u001b[0mos\u001b[0m\u001b[0;34m.\u001b[0m\u001b[0mgetenv\u001b[0m\u001b[0;34m(\u001b[0m\u001b[0;34m\"OPENAI_API_KEY\"\u001b[0m\u001b[0;34m)\u001b[0m\u001b[0;34m\u001b[0m\n",
      "\u001b[0;34m\u001b[0m    \u001b[0mclient\u001b[0m \u001b[0;34m=\u001b[0m \u001b[0mOpenAI\u001b[0m\u001b[0;34m(\u001b[0m\u001b[0;34m)\u001b[0m\u001b[0;34m\u001b[0m\n",
      "\u001b[0;34m\u001b[0m    \u001b[0magent\u001b[0m \u001b[0;34m=\u001b[0m \u001b[0mAgent\u001b[0m\u001b[0;34m(\u001b[0m\u001b[0;34m\u001b[0m\n",
      "\u001b[0;34m\u001b[0m        \u001b[0mname\u001b[0m\u001b[0;34m=\u001b[0m\u001b[0;34m\"agriculture specialist agent\"\u001b[0m\u001b[0;34m,\u001b[0m\u001b[0;34m\u001b[0m\n",
      "\u001b[0;34m\u001b[0m        \u001b[0mmodel\u001b[0m\u001b[0;34m=\u001b[0m\u001b[0mOpenAIChat\u001b[0m\u001b[0;34m(\u001b[0m\u001b[0mtemperature\u001b[0m\u001b[0;34m=\u001b[0m\u001b[0;36m0\u001b[0m\u001b[0;34m)\u001b[0m\u001b[0;34m,\u001b[0m\u001b[0;34m\u001b[0m\n",
      "\u001b[0;34m\u001b[0m        \u001b[0mintroduction\u001b[0m\u001b[0;34m=\u001b[0m\u001b[0;34m\"You are an expert in Srilankan agriculture field and has deep experience in identifying pest, diseases and weeds through your yeats of experience.\"\u001b[0m\u001b[0;34m,\u001b[0m\u001b[0;34m\u001b[0m\n",
      "\u001b[0;34m\u001b[0m        \u001b[0mdescription\u001b[0m\u001b[0;34m=\u001b[0m\u001b[0;34m\"\"\"You as an expert with deep knowledge in Srilankan agriculture. using Your expertise you will determine if there are any pest, diseases or weeds in the provided picture.\"\"\"\u001b[0m\u001b[0;34m,\u001b[0m\u001b[0;34m\u001b[0m\n",
      "\u001b[0;34m\u001b[0m        \u001b[0mguidelines\u001b[0m\u001b[0;34m=\u001b[0m\u001b[0;34m[\u001b[0m\u001b[0;34m\u001b[0m\n",
      "\u001b[0;34m\u001b[0m        \u001b[0;34m\"If you are not sure say you are uncertain\"\u001b[0m\u001b[0;34m,\u001b[0m\u001b[0;34m\u001b[0m\n",
      "\u001b[0;34m\u001b[0m        \u001b[0;34m\"If everything looks healthy say that it is healthy\"\u001b[0m\u001b[0;34m,\u001b[0m\u001b[0;34m\u001b[0m\n",
      "\u001b[0;34m\u001b[0m        \u001b[0;34m\"Think through and plan the process to derive conclusion\"\u001b[0m\u001b[0;34m,\u001b[0m\u001b[0;34m\u001b[0m\n",
      "\u001b[0;34m\u001b[0m        \u001b[0;34m\"Always remember that you will only be given images from plants grown in srilanka\"\u001b[0m\u001b[0;34m,\u001b[0m\u001b[0;34m\u001b[0m\n",
      "\u001b[0;34m\u001b[0m        \u001b[0;34m\"when uncertain try to provide the most probable disease/weed/pest\"\u001b[0m\u001b[0;34m]\u001b[0m\u001b[0;34m,\u001b[0m\u001b[0;34m\u001b[0m\n",
      "\u001b[0;34m\u001b[0m        \u001b[0mtask\u001b[0m\u001b[0;34m=\u001b[0m\u001b[0;34m\"\"\"\u001b[0m\n",
      "\u001b[0;34m        You are provided with the following data.\\n\u001b[0m\n",
      "\u001b[0;34m            - picture of the plant\u001b[0m\n",
      "\u001b[0;34m            - name of the plant\u001b[0m\n",
      "\u001b[0;34m            - current location within srilanka\u001b[0m\n",
      "\u001b[0;34m            - current weather\u001b[0m\n",
      "\u001b[0;34m            - IoT device readings of temperature of the plantbed.\u001b[0m\n",
      "\u001b[0;34m            - current date.\u001b[0m\n",
      "\u001b[0;34m        Based on these details you will come to the conclusion if there are any pest, disease or any weeds.\u001b[0m\n",
      "\u001b[0;34m        your output must contain\\n\u001b[0m\n",
      "\u001b[0;34m            disease: disease names or healthy or uncertain\u001b[0m\n",
      "\u001b[0;34m            weed: weed name or healthy or uncertain\u001b[0m\n",
      "\u001b[0;34m            pest: pest names or healthy or uncertain\u001b[0m\n",
      "\u001b[0;34m            summary: ten point summary \u001b[0m\n",
      "\u001b[0;34m            precautions: list of precations\u001b[0m\n",
      "\u001b[0;34m        \"\"\"\u001b[0m\u001b[0;34m,\u001b[0m\u001b[0;34m\u001b[0m\n",
      "\u001b[0;34m\u001b[0m        \u001b[0madd_datetime_to_instructions\u001b[0m\u001b[0;34m=\u001b[0m\u001b[0;32mTrue\u001b[0m\u001b[0;34m\u001b[0m\n",
      "\u001b[0;34m\u001b[0m    \u001b[0;34m)\u001b[0m\u001b[0;34m\u001b[0m\n",
      "\u001b[0;34m\u001b[0m\u001b[0;34m\u001b[0m\n",
      "\u001b[0;34m\u001b[0m    \u001b[0mresult\u001b[0m \u001b[0;34m=\u001b[0m \u001b[0magent\u001b[0m\u001b[0;34m.\u001b[0m\u001b[0mrun\u001b[0m\u001b[0;34m(\u001b[0m\u001b[0;34m\u001b[0m\n",
      "\u001b[0;34m\u001b[0m        \u001b[0mmessages\u001b[0m\u001b[0;34m=\u001b[0m\u001b[0;34m[\u001b[0m\u001b[0;34m\u001b[0m\n",
      "\u001b[0;34m\u001b[0m            \u001b[0;34m{\u001b[0m\u001b[0;34m\u001b[0m\n",
      "\u001b[0;34m\u001b[0m                \u001b[0;34m\"role\"\u001b[0m\u001b[0;34m:\u001b[0m \u001b[0;34m\"user\"\u001b[0m\u001b[0;34m,\u001b[0m\u001b[0;34m\u001b[0m\n",
      "\u001b[0;34m\u001b[0m                \u001b[0;34m\"content\"\u001b[0m\u001b[0;34m:\u001b[0m \u001b[0;34m[\u001b[0m\u001b[0;34m\u001b[0m\n",
      "\u001b[0;34m\u001b[0m                    \u001b[0;34m{\u001b[0m\u001b[0;34m\"type\"\u001b[0m\u001b[0;34m:\u001b[0m \u001b[0;34m\"text\"\u001b[0m\u001b[0;34m,\u001b[0m \u001b[0;34m\"text\"\u001b[0m\u001b[0;34m:\u001b[0m \u001b[0;34mf\"\u001b[0m\u001b[0;34mplant: \u001b[0m\u001b[0;34m{\u001b[0m\u001b[0mplant\u001b[0m\u001b[0;34m}\u001b[0m\u001b[0;34m, location: \u001b[0m\u001b[0;34m{\u001b[0m\u001b[0mlocation\u001b[0m\u001b[0;34m}\u001b[0m\u001b[0;34m, weather: \u001b[0m\u001b[0;34m{\u001b[0m\u001b[0mweather\u001b[0m\u001b[0;34m}\u001b[0m\u001b[0;34m, IoT reading (temperature): \u001b[0m\u001b[0;34m{\u001b[0m\u001b[0mtemperature\u001b[0m\u001b[0;34m}\u001b[0m\u001b[0;34m\"\u001b[0m\u001b[0;34m}\u001b[0m\u001b[0;34m,\u001b[0m\u001b[0;34m\u001b[0m\n",
      "\u001b[0;34m\u001b[0m                    \u001b[0;34m{\u001b[0m\u001b[0;34m\u001b[0m\n",
      "\u001b[0;34m\u001b[0m                        \u001b[0;34m\"type\"\u001b[0m\u001b[0;34m:\u001b[0m \u001b[0;34m\"image_url\"\u001b[0m\u001b[0;34m,\u001b[0m\u001b[0;34m\u001b[0m\n",
      "\u001b[0;34m\u001b[0m                        \u001b[0;34m\"image_url\"\u001b[0m\u001b[0;34m:\u001b[0m \u001b[0;34m{\u001b[0m\u001b[0;34m\u001b[0m\n",
      "\u001b[0;34m\u001b[0m                            \u001b[0;34m\"url\"\u001b[0m\u001b[0;34m:\u001b[0m  \u001b[0;34mf\"\u001b[0m\u001b[0;34mdata:image/jpeg;base64,\u001b[0m\u001b[0;34m{\u001b[0m\u001b[0mbase64_image\u001b[0m\u001b[0;34m}\u001b[0m\u001b[0;34m\"\u001b[0m\u001b[0;34m\u001b[0m\n",
      "\u001b[0;34m\u001b[0m                        \u001b[0;34m}\u001b[0m\u001b[0;34m,\u001b[0m\u001b[0;34m\u001b[0m\n",
      "\u001b[0;34m\u001b[0m                    \u001b[0;34m}\u001b[0m\u001b[0;34m,\u001b[0m\u001b[0;34m\u001b[0m\n",
      "\u001b[0;34m\u001b[0m                \u001b[0;34m]\u001b[0m\u001b[0;34m,\u001b[0m\u001b[0;34m\u001b[0m\n",
      "\u001b[0;34m\u001b[0m            \u001b[0;34m}\u001b[0m\u001b[0;34m\u001b[0m\n",
      "\u001b[0;34m\u001b[0m        \u001b[0;34m]\u001b[0m\u001b[0;34m\u001b[0m\n",
      "\u001b[0;34m\u001b[0m    \u001b[0;34m)\u001b[0m\u001b[0;34m\u001b[0m\n",
      "\u001b[0;34m\u001b[0m\u001b[0;34m\u001b[0m\n",
      "\u001b[0;34m\u001b[0m    \u001b[0;32mclass\u001b[0m \u001b[0mOutputData\u001b[0m\u001b[0;34m(\u001b[0m\u001b[0mBaseModel\u001b[0m\u001b[0;34m)\u001b[0m\u001b[0;34m:\u001b[0m\u001b[0;34m\u001b[0m\n",
      "\u001b[0;34m\u001b[0m        \u001b[0mpest\u001b[0m\u001b[0;34m:\u001b[0m \u001b[0mbool\u001b[0m \u001b[0;34m=\u001b[0m \u001b[0mField\u001b[0m\u001b[0;34m(\u001b[0m\u001b[0mdescription\u001b[0m\u001b[0;34m=\u001b[0m\u001b[0;34m\"deose the plant have a pest or not, if uncertain or yes then true, else false\"\u001b[0m\u001b[0;34m)\u001b[0m\u001b[0;34m\u001b[0m\n",
      "\u001b[0;34m\u001b[0m        \u001b[0mweed\u001b[0m\u001b[0;34m:\u001b[0m \u001b[0mbool\u001b[0m \u001b[0;34m=\u001b[0m \u001b[0mField\u001b[0m\u001b[0;34m(\u001b[0m\u001b[0mdescription\u001b[0m\u001b[0;34m=\u001b[0m\u001b[0;34m\"deose the plant have a weed or not, if uncertain or yes then true, else false\"\u001b[0m\u001b[0;34m)\u001b[0m\u001b[0;34m\u001b[0m\n",
      "\u001b[0;34m\u001b[0m        \u001b[0mdisease\u001b[0m\u001b[0;34m:\u001b[0m \u001b[0mbool\u001b[0m \u001b[0;34m=\u001b[0m \u001b[0mField\u001b[0m\u001b[0;34m(\u001b[0m\u001b[0mdescription\u001b[0m\u001b[0;34m=\u001b[0m\u001b[0;34m\"deose the plant have disease or not, if uncertain or yes then true, else false\"\u001b[0m\u001b[0;34m)\u001b[0m\u001b[0;34m\u001b[0m\n",
      "\u001b[0;34m\u001b[0m\u001b[0;34m\u001b[0m\n",
      "\u001b[0;34m\u001b[0m    \u001b[0mcompletion\u001b[0m \u001b[0;34m=\u001b[0m \u001b[0mclient\u001b[0m\u001b[0;34m.\u001b[0m\u001b[0mbeta\u001b[0m\u001b[0;34m.\u001b[0m\u001b[0mchat\u001b[0m\u001b[0;34m.\u001b[0m\u001b[0mcompletions\u001b[0m\u001b[0;34m.\u001b[0m\u001b[0mparse\u001b[0m\u001b[0;34m(\u001b[0m\u001b[0;34m\u001b[0m\n",
      "\u001b[0;34m\u001b[0m        \u001b[0mmodel\u001b[0m\u001b[0;34m=\u001b[0m\u001b[0;34m\"gpt-4o\"\u001b[0m\u001b[0;34m,\u001b[0m\u001b[0;34m\u001b[0m\n",
      "\u001b[0;34m\u001b[0m        \u001b[0mmessages\u001b[0m\u001b[0;34m=\u001b[0m\u001b[0;34m[\u001b[0m\u001b[0;34m\u001b[0m\n",
      "\u001b[0;34m\u001b[0m            \u001b[0;34m{\u001b[0m\u001b[0;34m\"role\"\u001b[0m\u001b[0;34m:\u001b[0m \u001b[0;34m\"system\"\u001b[0m\u001b[0;34m,\u001b[0m \u001b[0;34m\"content\"\u001b[0m\u001b[0;34m:\u001b[0m \u001b[0;34m\"Extract the prediction information.\"\u001b[0m\u001b[0;34m}\u001b[0m\u001b[0;34m,\u001b[0m\u001b[0;34m\u001b[0m\n",
      "\u001b[0;34m\u001b[0m            \u001b[0;34m{\u001b[0m\u001b[0;34m\"role\"\u001b[0m\u001b[0;34m:\u001b[0m \u001b[0;34m\"user\"\u001b[0m\u001b[0;34m,\u001b[0m \u001b[0;34m\"content\"\u001b[0m\u001b[0;34m:\u001b[0m \u001b[0mresult\u001b[0m\u001b[0;34m.\u001b[0m\u001b[0mcontent\u001b[0m\u001b[0;34m}\u001b[0m\u001b[0;34m,\u001b[0m\u001b[0;34m\u001b[0m\n",
      "\u001b[0;34m\u001b[0m        \u001b[0;34m]\u001b[0m\u001b[0;34m,\u001b[0m\u001b[0;34m\u001b[0m\n",
      "\u001b[0;34m\u001b[0m        \u001b[0mresponse_format\u001b[0m\u001b[0;34m=\u001b[0m\u001b[0mOutputData\u001b[0m\u001b[0;34m,\u001b[0m\u001b[0;34m\u001b[0m\n",
      "\u001b[0;34m\u001b[0m    \u001b[0;34m)\u001b[0m\u001b[0;34m\u001b[0m\n",
      "\u001b[0;34m\u001b[0m\u001b[0;34m\u001b[0m\n",
      "\u001b[0;34m\u001b[0m    \u001b[0;32mreturn\u001b[0m \u001b[0mresult\u001b[0m\u001b[0;34m.\u001b[0m\u001b[0mcontent\u001b[0m\u001b[0;34m,\u001b[0m \u001b[0mcompletion\u001b[0m\u001b[0;34m.\u001b[0m\u001b[0mchoices\u001b[0m\u001b[0;34m[\u001b[0m\u001b[0;36m0\u001b[0m\u001b[0;34m]\u001b[0m\u001b[0;34m.\u001b[0m\u001b[0mmessage\u001b[0m\u001b[0;34m.\u001b[0m\u001b[0mparsed\u001b[0m\u001b[0;34m\u001b[0m\u001b[0;34m\u001b[0m\u001b[0m\n"
     ]
    }
   ],
   "source": [
    "%pycat transform.py"
   ]
  },
  {
   "cell_type": "code",
   "execution_count": 6,
   "metadata": {},
   "outputs": [
    {
     "name": "stdout",
     "output_type": "stream",
     "text": [
      "glassflow>=2.0.6\n",
      "ipykernel>=6.29.5\n",
      "openai>=1.55.3\n",
      "opencv-python>=4.10.0.84\n",
      "phidata>=2.5.33\n",
      "pydantic>=2.10.2\n",
      "python-dotenv>=1.0.1\n",
      "supabase>=2.10.0\n"
     ]
    }
   ],
   "source": [
    "with open(\"requirements.txt\") as f:\n",
    "    requirements_txt = f.read()\n",
    "print(requirements_txt)"
   ]
  },
  {
   "cell_type": "code",
   "execution_count": 7,
   "metadata": {},
   "outputs": [],
   "source": [
    "env_vars = [\n",
    "  {\n",
    "    \"name\": \"OPENAI_API_KEY\",\n",
    "    \"value\": os.getenv(\"OPENAI_API_KEY\")\n",
    "  },\n",
    "  {\n",
    "    \"name\": \"SUPABASE_URL\",\n",
    "    \"value\": os.getenv(\"SUPABASE_URL\")\n",
    "  },\n",
    "  {\n",
    "    \"name\": \"SUPABASE_KEY\",\n",
    "    \"value\": os.getenv(\"SUPABASE_KEY\")\n",
    "  }\n",
    "]"
   ]
  },
  {
   "cell_type": "code",
   "execution_count": null,
   "metadata": {},
   "outputs": [],
   "source": [
    "pipeline_name = \"agro-image-analysis\"\n",
    "\n",
    "pipeline = client.create_pipeline(\n",
    "    name=pipeline_name, \n",
    "    transformation_file='transform.py',\n",
    "    space_id=space.id, \n",
    "    env_vars=env_vars,\n",
    "    requirements=requirements_txt,\n",
    "    source_kind=\"webhook\",\n",
    "    source_config={\n",
    "        \"image_id\": \"<your image id>\",\n",
    "        \"base64_image\": \"<your encoded image>\",\n",
    "        \"plant\": \"<your plant name>\",\n",
    "        \"location\": \"<your location>\",\n",
    "        \"weather\": \"<your weather>\",\n",
    "        \"temperature\": \"<your temperature>\",\n",
    "        \"sensor_id\": \"<your sensor id>\",\n",
    "        \"plantation_id\": \"<your plantation id>\",\n",
    "    }, \n",
    ")\n",
    "print(\"Pipeline ID:\", pipeline.id)"
   ]
  },
  {
   "cell_type": "code",
   "execution_count": 9,
   "metadata": {},
   "outputs": [
    {
     "name": "stdout",
     "output_type": "stream",
     "text": [
      "Pipeline is deployed!\n",
      "Pipeline Id = 55800b46-8354-44ae-93ed-3478f27cc2d6\n",
      "Pipeline URL https://app.glassflow.dev/pipelines/55800b46-8354-44ae-93ed-3478f27cc2d6 \n"
     ]
    }
   ],
   "source": [
    "print(\"Pipeline is deployed!\") \n",
    "print(\"Pipeline Id = %s\" % (pipeline.id))\n",
    "print(\"Pipeline URL %s \"% f\"https://app.glassflow.dev/pipelines/{pipeline.id}\")"
   ]
  },
  {
   "cell_type": "code",
   "execution_count": 10,
   "metadata": {},
   "outputs": [],
   "source": [
    "data_source = pipeline.get_source()"
   ]
  },
  {
   "cell_type": "code",
   "execution_count": 11,
   "metadata": {},
   "outputs": [],
   "source": [
    "from glassflow import PipelineDataSource"
   ]
  },
  {
   "cell_type": "code",
   "execution_count": 11,
   "metadata": {},
   "outputs": [],
   "source": [
    "import base64\n",
    "\n",
    "# Function to encode the image\n",
    "def encode_image(image_path):\n",
    "  with open(image_path, \"rb\") as image_file:\n",
    "    return base64.b64encode(image_file.read()).decode('utf-8')"
   ]
  },
  {
   "cell_type": "code",
   "execution_count": 12,
   "metadata": {},
   "outputs": [],
   "source": [
    "enc_img = encode_image(\"../images/a-Wilt-in-Capsicum.jpg\")"
   ]
  },
  {
   "cell_type": "code",
   "execution_count": null,
   "metadata": {},
   "outputs": [
    {
     "data": {
      "text/plain": [
       "PublishEventResponse(content_type=None, status_code=200, raw_response=<Response [200]>, object=None)"
      ]
     },
     "execution_count": 20,
     "metadata": {},
     "output_type": "execute_result"
    }
   ],
   "source": [
    "source = PipelineDataSource(\n",
    "\tpipeline_id=\"\",\n",
    "\tpipeline_access_token=\"\"\n",
    ")\n",
    "# this is dummy data, format deosn't have to be same\n",
    "\n",
    "data = {\n",
    "    \"image_id\": 2,\n",
    "    \"base64_image\": enc_img,\n",
    "    \"plant\": \"capscicum\",\n",
    "    \"location\": \"Colombo\",\n",
    "    \"weather\": \"31 celcius\",\n",
    "    \"temperature\": \"27 celcius\",\n",
    "    \"sensor_id\": 234,\n",
    "    \"plantation_id\": 1,\n",
    "}\n",
    "source.publish(data)"
   ]
  },
  {
   "cell_type": "code",
   "execution_count": 23,
   "metadata": {},
   "outputs": [
    {
     "data": {
      "text/plain": [
       "'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'"
      ]
     },
     "execution_count": 23,
     "metadata": {},
     "output_type": "execute_result"
    }
   ],
   "source": [
    "enc_img"
   ]
  },
  {
   "cell_type": "markdown",
   "metadata": {},
   "source": []
  },
  {
   "cell_type": "code",
   "execution_count": null,
   "metadata": {},
   "outputs": [],
   "source": [
    "from glassflow import PipelineDataSink\n",
    "sink = PipelineDataSink(\n",
    "\tpipeline_id=\"\",\n",
    "\tpipeline_access_token=\"\"\n",
    ")\n",
    "response = sink.consume()\n",
    "if response.status_code == 200:\n",
    "\tdata = response.json()\n",
    "\tprint(\"Consumed Data: \", data)"
   ]
  },
  {
   "cell_type": "code",
   "execution_count": 22,
   "metadata": {},
   "outputs": [
    {
     "data": {
      "text/plain": [
       "[{'image_id': 2,\n",
       "  'base64_image': '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',\n",
       "  'plant': 'capscicum',\n",
       "  'location': 'Colombo',\n",
       "  'weather': '31 celcius',\n",
       "  'temperature': '27 celcius',\n",
       "  'sensor_id': 234,\n",
       "  'plantation_id': 1}]"
      ]
     },
     "execution_count": 22,
     "metadata": {},
     "output_type": "execute_result"
    }
   ],
   "source": [
    "data"
   ]
  },
  {
   "cell_type": "code",
   "execution_count": 30,
   "metadata": {},
   "outputs": [
    {
     "data": {
      "text/plain": [
       "ConsumeFailedResponse(content_type=None, status_code=204, raw_response=<Response [204]>, body=ConsumeFailedResponseBody(req_id='', receive_time='', event={}))"
      ]
     },
     "execution_count": 30,
     "metadata": {},
     "output_type": "execute_result"
    }
   ],
   "source": [
    "sink.consume_failed()"
   ]
  },
  {
   "cell_type": "code",
   "execution_count": null,
   "metadata": {},
   "outputs": [],
   "source": []
  }
 ],
 "metadata": {
  "kernelspec": {
   "display_name": ".venv",
   "language": "python",
   "name": "python3"
  },
  "language_info": {
   "codemirror_mode": {
    "name": "ipython",
    "version": 3
   },
   "file_extension": ".py",
   "mimetype": "text/x-python",
   "name": "python",
   "nbconvert_exporter": "python",
   "pygments_lexer": "ipython3",
   "version": "3.12.7"
  }
 },
 "nbformat": 4,
 "nbformat_minor": 2
}
